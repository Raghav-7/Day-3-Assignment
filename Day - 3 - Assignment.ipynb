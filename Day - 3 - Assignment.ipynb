{
 "cells": [
  {
   "cell_type": "markdown",
   "metadata": {},
   "source": [
    "# Questions 1:\n",
    "Create a numpy array starting from 2 till 50 with a stepsize of 3."
   ]
  },
  {
   "cell_type": "code",
   "execution_count": 1,
   "metadata": {},
   "outputs": [
    {
     "data": {
      "text/plain": [
       "array([ 2,  5,  8, 11, 14, 17, 20, 23, 26, 29, 32, 35, 38, 41, 44, 47])"
      ]
     },
     "execution_count": 1,
     "metadata": {},
     "output_type": "execute_result"
    }
   ],
   "source": [
    "import numpy as np\n",
    "np.arange(start=2, stop=50, step=3)"
   ]
  },
  {
   "cell_type": "markdown",
   "metadata": {},
   "source": [
    "#  Questions 2:\n",
    "Accept two lists of 5 elements each from the user.\n",
    "Convert them to numpy arrays. Concatenate these arrays and print it. Also sort these arrays and print it."
   ]
  },
  {
   "cell_type": "code",
   "execution_count": 3,
   "metadata": {},
   "outputs": [
    {
     "name": "stdout",
     "output_type": "stream",
     "text": [
      "Enter 5 elements for list 1 with space 1 2 3 4 7\n",
      "Enter 5 elements for list 1 with space 5 6 7 9 5\n",
      "\n",
      " List1: [1, 2, 3, 4, 7] \n",
      " List2: [5, 6, 7, 9, 5]\n",
      "\n",
      "Numpy,\n",
      "\t Array1: [1 2 3 4 7] \n",
      "\t Array2: [5 6 7 9 5]\n",
      "\n",
      "The concatenated array is: [1 2 3 4 7 5 6 7 9 5]\n",
      "Sorted concatenated array is: [1 2 3 4 5 5 6 7 7 9]\n"
     ]
    }
   ],
   "source": [
    "import numpy as np\n",
    "\n",
    "list1 = list(map(int,input(\"Enter 5 elements for list 1 with space \").split()))\n",
    "list2 = list(map(int,input(\"Enter 5 elements for list 1 with space \").split()))\n",
    "print()\n",
    "arr1 = np.array(list1)\n",
    "arr2 = np.array(list2)\n",
    "\n",
    "print(\" List1:\",list1,\"\\n\",\"List2:\",list2)\n",
    "print(\"\\nNumpy,\\n\\t Array1:\",arr1,\"\\n\\t\",\"Array2:\",arr2)\n",
    "print()\n",
    "arr12= np.concatenate((arr1, arr2), axis=None)\n",
    "print(\"The concatenated array is:\",arr12)\n",
    "\n",
    "arr12.sort()\n",
    "print(\"Sorted concatenated array is:\",arr12)"
   ]
  },
  {
   "cell_type": "markdown",
   "metadata": {},
   "source": [
    "#  Questions 3:\n",
    "Write a code snippet to find the dimensions of a ndarray and its size."
   ]
  },
  {
   "cell_type": "code",
   "execution_count": 4,
   "metadata": {},
   "outputs": [
    {
     "name": "stdout",
     "output_type": "stream",
     "text": [
      "Array is of type:  <class 'numpy.ndarray'>\n",
      "No. of dimensions:  2\n",
      "Shape of array:  (2, 3)\n",
      "Size of array:  6\n",
      "Array stores elements of type:  int32\n"
     ]
    }
   ],
   "source": [
    "import numpy as np\n",
    "\n",
    "# Creating array object\n",
    "arr = np.array( [[ 1, 2, 3],\n",
    "                 [ 4, 2, 5]] )\n",
    "\n",
    "print(\"Array is of type: \", type(arr))\n",
    "\n",
    "print(\"No. of dimensions: \", arr.ndim)\n",
    "\n",
    "print(\"Shape of array: \", arr.shape)\n",
    "\n",
    "print(\"Size of array: \", arr.size)\n",
    "\n",
    "print(\"Array stores elements of type: \", arr.dtype)"
   ]
  },
  {
   "cell_type": "markdown",
   "metadata": {},
   "source": [
    "#  Questions 4:\n",
    "\n",
    "How to convert a 1D array into a 2D array? Demonstrate with the help of a code snippet\n",
    "Hint: np.newaxis, np.expand_dims"
   ]
  },
  {
   "cell_type": "code",
   "execution_count": 5,
   "metadata": {},
   "outputs": [
    {
     "name": "stdout",
     "output_type": "stream",
     "text": [
      "1D Numpy array:\n",
      "[22  1  2  3  4  5  6  7  8  9]\n",
      "2D Numpy array:\n",
      "[[22  1  2  3  4]\n",
      " [ 5  6  7  8  9]]\n"
     ]
    }
   ],
   "source": [
    "arr = np.array([0, 1, 2, 3, 4, 5, 6, 7, 8, 9])\n",
    "arr_2d = np.reshape(arr, (2, 5))\n",
    "# Modify the 2D numpy array (View object)\n",
    "arr_2d[0][0] = 22\n",
    "print('1D Numpy array:')\n",
    "print(arr)\n",
    "print('2D Numpy array:')\n",
    "print(arr_2d)"
   ]
  },
  {
   "cell_type": "code",
   "execution_count": 6,
   "metadata": {},
   "outputs": [
    {
     "name": "stdout",
     "output_type": "stream",
     "text": [
      "*** Convert a 1D array to a 2D Numpy array ***\n",
      "1D Numpy array:\n",
      "[0 1 2 3 4 5 6 7 8 9]\n",
      "2D Numpy array:\n",
      "[[0 1 2 3 4]\n",
      " [5 6 7 8 9]]\n",
      "Shape of 2D array must be compatible to 1D array\n",
      "Reshaped 2D array is a view of 1D array\n",
      "1D Numpy array:\n",
      "[22  1  2  3  4  5  6  7  8  9]\n",
      "2D Numpy array:\n",
      "[[22  1  2  3  4]\n",
      " [ 5  6  7  8  9]]\n",
      "Convert a 1D Numpy array to a 3D Numpy array using numpy.reshape()\n",
      "1D Numpy array:\n",
      "[ 1  2  3  4  5  6  7  8  9 10 11 12]\n",
      "3D Numpy array:\n",
      "[[[ 1  2  3]\n",
      "  [ 4  5  6]]\n",
      "\n",
      " [[ 7  8  9]\n",
      "  [10 11 12]]]\n",
      "*** Convert 1D Numpy array to 2D numpy array along the column ***\n",
      "1D Numpy array:\n",
      "[0 1 2 3 4 5 6 7 8 9]\n",
      "2D Numpy array:\n",
      "[[0 2 4 6 8]\n",
      " [1 3 5 7 9]]\n",
      "*** Convert 2D aray to 1D array as copy ***\n",
      "1D Numpy array:\n",
      "[0 1 2 3 4 5 6 7 8 9]\n",
      "2D Numpy array:\n",
      "[[0 1 2 3 4]\n",
      " [5 6 7 8 9]]\n",
      "1D Numpy array:\n",
      "[0 1 2 3 4 5 6 7 8 9]\n",
      "2D Numpy array:\n",
      "[[22  1  2  3  4]\n",
      " [ 5  6  7  8  9]]\n"
     ]
    }
   ],
   "source": [
    "import numpy as np\n",
    "def main():\n",
    "    print('*** Convert a 1D array to a 2D Numpy array ***')\n",
    "    # create 1D numpy array from a list\n",
    "    arr = np.array([0, 1, 2, 3, 4, 5, 6, 7, 8, 9])\n",
    "    print('1D Numpy array:')\n",
    "    print(arr)\n",
    "    # Convert 1D array to a 2D numpy array of 2 rows and 3 columns\n",
    "    arr_2d = np.reshape(arr, (2, 5))\n",
    "    print('2D Numpy array:')\n",
    "    print(arr_2d)\n",
    "    print('Shape of 2D array must be compatible to 1D array')\n",
    "    # Converting 1D array to a 2D numpy array of incompatible shape will cause error\n",
    "    #arr_2d = np.reshape(arr, (2, 3))\n",
    "    #ValueError: cannot reshape array of size 10 into shape (2,3)\n",
    "    print('Reshaped 2D array is a view of 1D array')\n",
    "    # Modify the 2D numpy array (View object)\n",
    "    arr_2d[0][0] = 22\n",
    "    print('1D Numpy array:')\n",
    "    print(arr)\n",
    "    print('2D Numpy array:')\n",
    "    print(arr_2d)\n",
    "    print('Convert a 1D Numpy array to a 3D Numpy array using numpy.reshape()')\n",
    "    arr = np.array([1, 2, 3, 4, 5, 6, 7, 8, 9, 10, 11, 12])\n",
    "    print('1D Numpy array:')\n",
    "    print(arr)\n",
    "    # Convert 1D Numpy array to a 3D array with 2 matrices of shape 2X3\n",
    "    arr_3d = np.reshape(arr, (2, 2, 3))\n",
    "    print('3D Numpy array:')\n",
    "    print(arr_3d)\n",
    "    print('*** Convert 1D Numpy array to 2D numpy array along the column ***')\n",
    "    arr = np.array([0, 1, 2, 3, 4, 5, 6, 7, 8, 9])\n",
    "    print('1D Numpy array:')\n",
    "    print(arr)\n",
    "    # column wise conversion of 1D numpy array to 2D Numpy array\n",
    "    arr_2d = np.reshape(arr, (2, 5), order='F')\n",
    "    print('2D Numpy array:')\n",
    "    print(arr_2d)\n",
    "    print('*** Convert 2D aray to 1D array as copy ***')\n",
    "    arr = np.array([0, 1, 2, 3, 4, 5, 6, 7, 8, 9])\n",
    "    print('1D Numpy array:')\n",
    "    print(arr)\n",
    "    arr_2d = np.reshape(arr, (2, 5)).copy()\n",
    "    print('2D Numpy array:')\n",
    "    print(arr_2d)\n",
    "    # Modify the 2D numpy array and it will not affect original 1D array\n",
    "    arr_2d[0][0] = 22\n",
    "    print('1D Numpy array:')\n",
    "    print(arr)\n",
    "    print('2D Numpy array:')\n",
    "    print(arr_2d)\n",
    "if __name__ == '__main__':\n",
    "    main()"
   ]
  },
  {
   "cell_type": "markdown",
   "metadata": {},
   "source": [
    "#  Questions 5:\n",
    "Consider two square numpy arrays. Stack them vertically and horizontally.\n",
    "Hint: Use vstack(), hstack()"
   ]
  },
  {
   "cell_type": "code",
   "execution_count": 7,
   "metadata": {},
   "outputs": [
    {
     "name": "stdout",
     "output_type": "stream",
     "text": [
      "1st Input array : \n",
      " [1 2 3]\n",
      "2nd Input array : \n",
      " [4 5 6]\n",
      "Output vertically stacked array:\n",
      "  [[1 2 3]\n",
      " [4 5 6]]\n",
      "Output vertically stacked array:\n",
      "  [1 2 3 4 5 6]\n"
     ]
    }
   ],
   "source": [
    "import numpy as np\n",
    "  \n",
    "# input array \n",
    "arr1 = np.array([ 1, 2, 3] ) \n",
    "print (\"1st Input array : \\n\", arr1)  \n",
    "  \n",
    "arr2 = np.array([ 4, 5, 6] ) \n",
    "print (\"2nd Input array : \\n\", arr2)  \n",
    "  \n",
    "# Stacking the two arrays vertically \n",
    "arrv = np.vstack((arr1, arr2)) \n",
    "print (\"Output vertically stacked array:\\n \", arrv) \n",
    "\n",
    "# Stacking the two arrays horizontally \n",
    "arrh = np.hstack((arr1, arr2)) \n",
    "print (\"Output vertically stacked array:\\n \", arrh) \n"
   ]
  },
  {
   "cell_type": "markdown",
   "metadata": {},
   "source": [
    "#  Questions 6:\n",
    "How to get unique items and counts of unique items?"
   ]
  },
  {
   "cell_type": "code",
   "execution_count": 8,
   "metadata": {},
   "outputs": [
    {
     "name": "stdout",
     "output_type": "stream",
     "text": [
      "the unique values from 1st list is\n",
      "10\n",
      "20\n",
      "30\n",
      "40\n",
      "\n",
      "the unique values from 2nd list is\n",
      "1\n",
      "2\n",
      "3\n",
      "4\n",
      "5\n",
      "\n",
      "No of unique items in the list1 are: 4\n",
      "No of unique items in the list2 are: 5\n"
     ]
    }
   ],
   "source": [
    "# Python program to check to get unique item and its count  \n",
    "# to get unique values from list \n",
    "# using traversal  \n",
    "  \n",
    "# function to get unique values \n",
    "def unique(list1): \n",
    "  \n",
    "    # intilize a null list \n",
    "    u_list = [] \n",
    "      \n",
    "    # traverse for all elements \n",
    "    for x in list1: \n",
    "        # check if exists in unique_list or not \n",
    "        if x not in u_list: \n",
    "            u_list.append(x) \n",
    "    # print list \n",
    "    for x in u_list: \n",
    "        print (x), \n",
    "      \n",
    "    \n",
    "list1 = [10, 20, 10, 30, 40, 40] \n",
    "print(\"the unique values from 1st list is\") \n",
    "unique(list1) \n",
    "  \n",
    "  \n",
    "list2 =[1, 2, 1, 1, 3, 4, 3, 3, 5] \n",
    "print(\"\\nthe unique values from 2nd list is\") \n",
    "unique(list2)\n",
    "print()\n",
    "new_set = set(list1) \n",
    "print(\"No of unique items in the list1 are:\", len(new_set))\n",
    "new_set = set(list2) \n",
    "print(\"No of unique items in the list2 are:\", len(new_set))\n"
   ]
  },
  {
   "cell_type": "code",
   "execution_count": null,
   "metadata": {},
   "outputs": [],
   "source": []
  }
 ],
 "metadata": {
  "kernelspec": {
   "display_name": "Python 3",
   "language": "python",
   "name": "python3"
  },
  "language_info": {
   "codemirror_mode": {
    "name": "ipython",
    "version": 3
   },
   "file_extension": ".py",
   "mimetype": "text/x-python",
   "name": "python",
   "nbconvert_exporter": "python",
   "pygments_lexer": "ipython3",
   "version": "3.8.3"
  }
 },
 "nbformat": 4,
 "nbformat_minor": 4
}
